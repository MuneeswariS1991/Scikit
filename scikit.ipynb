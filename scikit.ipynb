{
 "cells": [
  {
   "cell_type": "code",
   "execution_count": 22,
   "metadata": {},
   "outputs": [],
   "source": [
    "import numpy as np\n",
    "\n",
    "from os.path import dirname\n",
    "from os.path import join\n",
    "def bikes():\n",
    "    \"\"\"Test video data for video scene detection algorithms\n",
    "\n",
    "    Returns\n",
    "    -------\n",
    "    path : string\n",
    "        Absolute path to bikes.mp4\n",
    "    \"\"\"\n",
    "    module_path = dirname('D:\\IRDE\\Frame separation input\\Input.mp4')\n",
    "    return join(module_path, 'data', 'bikes.mp4')\n",
    "\n",
    "\n",
    "def bigbuckbunny():\n",
    "    \"\"\"Test video data for general video algorithms\n",
    "\n",
    "    Returns\n",
    "    -------\n",
    "    path : string\n",
    "        Absolute path to bigbuckbunny.mp4\n",
    "    \"\"\"\n",
    "    module_path = dirname(__file__)\n",
    "    return join(module_path, 'data', 'bigbuckbunny.mp4')\n",
    "\n",
    "\n",
    "def fullreferencepair():\n",
    "    \"\"\"Test video data for full-reference video quality algorithms\n",
    "\n",
    "    The sequence \"carphone\" is provided for quality-based\n",
    "    test cases where two videos of the same dimensions are\n",
    "    needed.\n",
    "\n",
    "    Returns\n",
    "    -------\n",
    "    paths : ndarray, shape (2,)\n",
    "        First element contains the absolute path to\n",
    "        a pristine video. Second element contains\n",
    "        absolute path to a distorted video.\n",
    "    \"\"\"\n",
    "    module_path = dirname(__file__)\n",
    "    return np.array([\n",
    "            join(module_path, 'data', 'carphone_pristine.mp4'),\n",
    "            join(module_path, 'data', 'carphone_distorted.mp4'),\n",
    "    ])\n",
    "\n",
    "\n",
    "__all__ = ['bikes', 'bigbuckbunny', 'fullreferencepair']"
   ]
  },
  {
   "cell_type": "code",
   "execution_count": 23,
   "metadata": {},
   "outputs": [
    {
     "ename": "AssertionError",
     "evalue": "Cannot find installation of real FFmpeg (which comes with ffprobe).",
     "output_type": "error",
     "traceback": [
      "\u001b[1;31m---------------------------------------------------------------------------\u001b[0m",
      "\u001b[1;31mAssertionError\u001b[0m                            Traceback (most recent call last)",
      "\u001b[1;32m<ipython-input-23-04b2ac67332a>\u001b[0m in \u001b[0;36m<module>\u001b[1;34m\u001b[0m\n\u001b[0;32m      4\u001b[0m \u001b[1;33m\u001b[0m\u001b[0m\n\u001b[0;32m      5\u001b[0m \u001b[1;31m# compute vectors from bigbuckbunny\u001b[0m\u001b[1;33m\u001b[0m\u001b[1;33m\u001b[0m\u001b[1;33m\u001b[0m\u001b[0m\n\u001b[1;32m----> 6\u001b[1;33m \u001b[0mvideodata\u001b[0m \u001b[1;33m=\u001b[0m \u001b[0mskvideo\u001b[0m\u001b[1;33m.\u001b[0m\u001b[0mio\u001b[0m\u001b[1;33m.\u001b[0m\u001b[0mvread\u001b[0m\u001b[1;33m(\u001b[0m\u001b[0mskvideo\u001b[0m\u001b[1;33m.\u001b[0m\u001b[0mdatasets\u001b[0m\u001b[1;33m.\u001b[0m\u001b[0mbigbuckbunny\u001b[0m\u001b[1;33m(\u001b[0m\u001b[1;33m)\u001b[0m\u001b[1;33m)\u001b[0m\u001b[1;33m\u001b[0m\u001b[1;33m\u001b[0m\u001b[0m\n\u001b[0m\u001b[0;32m      7\u001b[0m \u001b[0mmotion\u001b[0m \u001b[1;33m=\u001b[0m \u001b[0mskvideo\u001b[0m\u001b[1;33m.\u001b[0m\u001b[0mmotion\u001b[0m\u001b[1;33m.\u001b[0m\u001b[0mblockMotion\u001b[0m\u001b[1;33m(\u001b[0m\u001b[0mvideodata\u001b[0m\u001b[1;33m)\u001b[0m\u001b[1;33m\u001b[0m\u001b[1;33m\u001b[0m\u001b[0m\n\u001b[0;32m      8\u001b[0m \u001b[1;33m\u001b[0m\u001b[0m\n",
      "\u001b[1;32m~\\anaconda\\lib\\site-packages\\skvideo\\io\\io.py\u001b[0m in \u001b[0;36mvread\u001b[1;34m(fname, height, width, num_frames, as_grey, inputdict, outputdict, backend, verbosity)\u001b[0m\n\u001b[0;32m    131\u001b[0m     \u001b[1;32mif\u001b[0m \u001b[0mbackend\u001b[0m \u001b[1;33m==\u001b[0m \u001b[1;34m\"ffmpeg\"\u001b[0m\u001b[1;33m:\u001b[0m\u001b[1;33m\u001b[0m\u001b[1;33m\u001b[0m\u001b[0m\n\u001b[0;32m    132\u001b[0m         \u001b[1;31m# check if FFMPEG exists in the path\u001b[0m\u001b[1;33m\u001b[0m\u001b[1;33m\u001b[0m\u001b[1;33m\u001b[0m\u001b[0m\n\u001b[1;32m--> 133\u001b[1;33m         \u001b[1;32massert\u001b[0m \u001b[0m_HAS_FFMPEG\u001b[0m\u001b[1;33m,\u001b[0m \u001b[1;34m\"Cannot find installation of real FFmpeg (which comes with ffprobe).\"\u001b[0m\u001b[1;33m\u001b[0m\u001b[1;33m\u001b[0m\u001b[0m\n\u001b[0m\u001b[0;32m    134\u001b[0m \u001b[1;33m\u001b[0m\u001b[0m\n\u001b[0;32m    135\u001b[0m         \u001b[1;32mif\u001b[0m \u001b[1;33m(\u001b[0m\u001b[1;33m(\u001b[0m\u001b[0mheight\u001b[0m \u001b[1;33m!=\u001b[0m \u001b[1;36m0\u001b[0m\u001b[1;33m)\u001b[0m \u001b[1;32mand\u001b[0m \u001b[1;33m(\u001b[0m\u001b[0mwidth\u001b[0m \u001b[1;33m!=\u001b[0m \u001b[1;36m0\u001b[0m\u001b[1;33m)\u001b[0m\u001b[1;33m)\u001b[0m\u001b[1;33m:\u001b[0m\u001b[1;33m\u001b[0m\u001b[1;33m\u001b[0m\u001b[0m\n",
      "\u001b[1;31mAssertionError\u001b[0m: Cannot find installation of real FFmpeg (which comes with ffprobe)."
     ]
    }
   ],
   "source": [
    "import skvideo.io\n",
    "import skvideo.motion\n",
    "import skvideo.datasets\n",
    "\n",
    "# compute vectors from bigbuckbunny\n",
    "videodata = skvideo.io.vread(skvideo.datasets.bigbuckbunny())\n",
    "motion = skvideo.motion.blockMotion(videodata)\n",
    "\n",
    "# compensate the video\n",
    "compmotion = skvideo.motion.blockComp(videodata, motion)"
   ]
  },
  {
   "cell_type": "code",
   "execution_count": null,
   "metadata": {},
   "outputs": [],
   "source": []
  }
 ],
 "metadata": {
  "kernelspec": {
   "display_name": "Python 3",
   "language": "python",
   "name": "python3"
  },
  "language_info": {
   "codemirror_mode": {
    "name": "ipython",
    "version": 3
   },
   "file_extension": ".py",
   "mimetype": "text/x-python",
   "name": "python",
   "nbconvert_exporter": "python",
   "pygments_lexer": "ipython3",
   "version": "3.7.6"
  }
 },
 "nbformat": 4,
 "nbformat_minor": 4
}
